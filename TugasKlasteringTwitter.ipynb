{
  "nbformat": 4,
  "nbformat_minor": 0,
  "metadata": {
    "colab": {
      "provenance": [],
      "collapsed_sections": [],
      "authorship_tag": "ABX9TyMHrKqZ+KZB9wOWp+fj8Xps",
      "include_colab_link": true
    },
    "kernelspec": {
      "name": "python3",
      "display_name": "Python 3"
    },
    "language_info": {
      "name": "python"
    }
  },
  "cells": [
    {
      "cell_type": "markdown",
      "metadata": {
        "id": "view-in-github",
        "colab_type": "text"
      },
      "source": [
        "<a href=\"https://colab.research.google.com/github/Raflinfp/Tugas2-Text-Mining-Twitter/blob/main/TugasKlasteringTwitter.ipynb\" target=\"_parent\"><img src=\"https://colab.research.google.com/assets/colab-badge.svg\" alt=\"Open In Colab\"/></a>"
      ]
    },
    {
      "cell_type": "markdown",
      "source": [
        "Langkah 1 \n",
        "Install snscrape terlebih dahulu"
      ],
      "metadata": {
        "id": "gc7rDxI1VwtM"
      }
    },
    {
      "cell_type": "code",
      "execution_count": null,
      "metadata": {
        "colab": {
          "base_uri": "https://localhost:8080/"
        },
        "id": "GbdJM2WY6e31",
        "outputId": "96cf01cf-8245-4652-85b7-695e5e1661c3"
      },
      "outputs": [
        {
          "output_type": "stream",
          "name": "stdout",
          "text": [
            "Looking in indexes: https://pypi.org/simple, https://us-python.pkg.dev/colab-wheels/public/simple/\n",
            "Requirement already satisfied: snscrape in /usr/local/lib/python3.7/dist-packages (0.3.4)\n",
            "Requirement already satisfied: requests[socks] in /usr/local/lib/python3.7/dist-packages (from snscrape) (2.23.0)\n",
            "Requirement already satisfied: beautifulsoup4 in /usr/local/lib/python3.7/dist-packages (from snscrape) (4.6.3)\n",
            "Requirement already satisfied: lxml in /usr/local/lib/python3.7/dist-packages (from snscrape) (4.9.1)\n",
            "Requirement already satisfied: certifi>=2017.4.17 in /usr/local/lib/python3.7/dist-packages (from requests[socks]->snscrape) (2022.9.24)\n",
            "Requirement already satisfied: urllib3!=1.25.0,!=1.25.1,<1.26,>=1.21.1 in /usr/local/lib/python3.7/dist-packages (from requests[socks]->snscrape) (1.24.3)\n",
            "Requirement already satisfied: idna<3,>=2.5 in /usr/local/lib/python3.7/dist-packages (from requests[socks]->snscrape) (2.10)\n",
            "Requirement already satisfied: chardet<4,>=3.0.2 in /usr/local/lib/python3.7/dist-packages (from requests[socks]->snscrape) (3.0.4)\n",
            "Requirement already satisfied: PySocks!=1.5.7,>=1.5.6 in /usr/local/lib/python3.7/dist-packages (from requests[socks]->snscrape) (1.7.1)\n"
          ]
        }
      ],
      "source": [
        "!pip3 install snscrape"
      ]
    },
    {
      "cell_type": "markdown",
      "source": [
        "Langkah 2\n",
        "Install langdetect"
      ],
      "metadata": {
        "id": "BGJh85r1V2Jn"
      }
    },
    {
      "cell_type": "code",
      "source": [
        "pip install langdetect"
      ],
      "metadata": {
        "colab": {
          "base_uri": "https://localhost:8080/"
        },
        "id": "nu7dfgsM6hx3",
        "outputId": "af7417c4-f16c-443f-d8ca-5e65984c385e"
      },
      "execution_count": null,
      "outputs": [
        {
          "output_type": "stream",
          "name": "stdout",
          "text": [
            "Looking in indexes: https://pypi.org/simple, https://us-python.pkg.dev/colab-wheels/public/simple/\n",
            "Requirement already satisfied: langdetect in /usr/local/lib/python3.7/dist-packages (1.0.9)\n",
            "Requirement already satisfied: six in /usr/local/lib/python3.7/dist-packages (from langdetect) (1.15.0)\n"
          ]
        }
      ]
    },
    {
      "cell_type": "markdown",
      "source": [
        "Langkah 3\n",
        "Import snscrape dari twitter"
      ],
      "metadata": {
        "id": "mq9RFx1KV7AT"
      }
    },
    {
      "cell_type": "code",
      "source": [
        "import snscrape.modules.twitter as sntwitter\n",
        "import json\n",
        "from langdetect import detect"
      ],
      "metadata": {
        "id": "iXHqNbcy6heh"
      },
      "execution_count": null,
      "outputs": []
    },
    {
      "cell_type": "markdown",
      "source": [
        "Langkah 4\n",
        "Masukkan keywoard yang diinginkan dan juga tanggal yang diinginkan"
      ],
      "metadata": {
        "id": "NSZqNNQSWDDt"
      }
    },
    {
      "cell_type": "code",
      "source": [
        "keywords=['PBSI']\n",
        "start=\"2022–09–01\"\n",
        "end =\"2022–10–03\"\n",
        "max_num=100\n",
        "fname='tweet.json' \n",
        "languages=['id','en']"
      ],
      "metadata": {
        "id": "d8sRv0UR6oTv"
      },
      "execution_count": null,
      "outputs": []
    },
    {
      "cell_type": "markdown",
      "source": [
        "Langkah ke 5\n",
        "Import pandas"
      ],
      "metadata": {
        "id": "e5AQzjzzWLtV"
      }
    },
    {
      "cell_type": "code",
      "source": [
        "import pandas as pd\n",
        "datatw=[]"
      ],
      "metadata": {
        "id": "exIqj_UO6rHf"
      },
      "execution_count": null,
      "outputs": []
    },
    {
      "cell_type": "markdown",
      "source": [
        "Langkah ke 6\n",
        "Melakukan scrapping menggunakan snscrape pada twitter "
      ],
      "metadata": {
        "id": "ITEr54qLWVI6"
      }
    },
    {
      "cell_type": "code",
      "source": [
        "for keyword in keywords:\n",
        "   \n",
        "    for i, tweet in enumerate (sntwitter.TwitterSearchScraper(f'{keyword} ').get_items()):\n",
        "        \n",
        "        try:\n",
        "            lan=detect(tweet.content)\n",
        "        except:\n",
        "            lan='error'\n",
        "        if i == max_num:\n",
        "            break\n",
        "        if lan in languages:\n",
        "            data = {'id': tweet.id, 'username':tweet.username, 'date': tweet.date, 'text': tweet.content,'url':tweet.url}\n",
        "           # print(data)\n",
        "            datatw.append(tweet.content)\n",
        "            with open(fname, 'a+', encoding='utf-8') as f:\n",
        "                line = json.dumps(data, ensure_ascii=False,default=str)\n",
        "                #print(line)\n",
        "                f.write(line)\n",
        "                f.write('\\n')"
      ],
      "metadata": {
        "id": "4kHyjj-M6vX1"
      },
      "execution_count": null,
      "outputs": []
    },
    {
      "cell_type": "markdown",
      "source": [
        "Langkah ke 7 \n",
        "Menampilkan data yang ingin dicari"
      ],
      "metadata": {
        "id": "Nz32LVQSWlNy"
      }
    },
    {
      "cell_type": "code",
      "source": [
        "datatw"
      ],
      "metadata": {
        "colab": {
          "base_uri": "https://localhost:8080/"
        },
        "id": "hTu8OnxY6w2l",
        "outputId": "f81b9782-291e-49b4-e944-937c1e094d92"
      },
      "execution_count": null,
      "outputs": [
        {
          "output_type": "execute_result",
          "data": {
            "text/plain": [
              "['pengen bgt make wallpaper bujang2 pbsi, tapi takutnya nanti kalo diliat emak dikiranya pacar w lagi… lg menghindarkan bgt pertanyaan2 memancing kek gitu hiks',\n",
              " 'humas pbsi yang sebenarnya https://t.co/ze7G0Q7bVh',\n",
              " 'Herry IP Bicara Target Ganda Putra di Denmark Open dan France Open 2022 https://t.co/5nRpDzaicY baca juga berita dari media lainnya di Indonesia di https://t.co/GkwQxRUMd1 \\n\\n#denmarkopen #herryip #kevinsanjaya #marcusfernaldigideon #hendrasetiawan #rionnymainaky #pbsi',\n",
              " 'Tim Asesor LAMDIK Visitasi Prodi PBSI FKIP Unismuh secara Luring\\nhttps://t.co/JAMEggnyoV',\n",
              " '@/pbsi gua liat2 lu kaga ngepost foto rayen dari kemaren????? Butuh woi',\n",
              " 'Indonesia Masters 2022 Super 100 Tutup Turnamen Bergengsi Tahun Ini\\xa0 https://t.co/L9BxBqhd81 baca juga berita dari media lainnya di Indonesia di https://t.co/GkwQxScVr9 \\n\\n#indonesiamasters #indonesiamasters2022super100 #bwf #indonesiamasters2022 #pbsi',\n",
              " 'Tim bulutangkis Indonesia akan memulai kembali perjuangannya di turnamen BWF Denmark Open 2022. Ada 15 wakil yang diturunkan PBSI di ajang level Super 750 itu. https://t.co/yvAIVN8LdU',\n",
              " '@idextratime Benar² tidak punya rasa tanggung jawab, empati, dan korup, uang doang dipikirin nyawa manusia itu kau anggap apa? Masa iya yg bertanggung jawab PBSI or PBVSI Yo gak nyambung.',\n",
              " 'Tim bulutangkis Indonesia akan memulai kembali perjuangannya di turnamen BWF Denmark Open 2022. Ada 15 wakil yang diturunkan PBSI di ajang level Super 750 itu. https://t.co/DxkRiXgxKQ',\n",
              " '@BadmintonTalk knp sih pbsi gk krjsama tvri sport hd buat pnayangan suhandinata cup dn wjc 2022. hmm',\n",
              " 'kuncen nga pbsi gini kali ya, salah satu kudu ada yg uda berpengelaman mau itu banyak atau sedikit. https://t.co/Lqj38uwSc1',\n",
              " 'Cost, cobots and connectivity: The three Cs behind the UK’s acceleration towards automation 👉 https://t.co/v69PoTkH4A\\n\\n#automation #robots #connectivity https://t.co/2ksLc9RQc3',\n",
              " 'Kepada tim Humas dan Media PP PBSI, Anthony Sinisuka Ginting mengaku sudah sembuh dari cedera punggung yang menghantuinya.\\n\\n\"Puji Tuhan cederanya sudah sembuh semua. Dan sudah siap bertanding,\" ujarnya.',\n",
              " 'Pakai masker kalau butuh cinta PBSI.🧒👶😸🍭🍫🌷🌻🙉 https://t.co/bgkRfeQwVm',\n",
              " 'PBSI A Bucin Came Back.\\n🍭🍫🌷🌻 https://t.co/pJwgdDJvrz',\n",
              " 'Jadwal dan Hasil Undian Denmark Open 2022, Main Selasa Besok https://t.co/pTOWNoEHSh baca juga berita dari media lainnya di Indonesia di https://t.co/GkwQxRUMd1 \\n\\n#denmarkopen #jonatanchristie #bwf #pbsi #rionnymainaky #apriyanirahayu #kevinsanjaya',\n",
              " '@arumfaa_ @INABadminton Biasanya liat foto meme Mulu yg diupload PBSI ya kak?',\n",
              " 'Tercepot cepot dan termengsol mengsol oleh bujang pbsi 😆😆😆 https://t.co/5tSgTmKh0h',\n",
              " 'Kejurkab PBSI Tahun 2022, Club PB FIFA Keluar Sebagai Juara Umum https://t.co/4t9L4076TZ',\n",
              " 'XD: Semifinal\\n\\nPBSI mengusung target yang sejujurnya agak berlebihan untuk sektor XD. Meski beberapa nama sedang menanjak performanya, level mereka belum cukup tinggi untuk menghadapi pasangan2 kuat lainnya. Hasil undian yg diperoleh juga terbilang sulit.',\n",
              " 'WD: Final\\n\\nWD hanya menyertakan dua wakil. Namun, peluang untuk melaju jauh cukup besar, terutama lewat Ari/Fadia yg memang sedang dalam performa menanjak. Tanpa mengurangi rasa hormat pada Ana/Tiwi, target final yg PBSI patok kemungkinan juga berlaku untuk Apri/Fadia saja.',\n",
              " 'MD: Juara\\n\\nSeperti biasa, sektor MD akan menjadi tulang punggung Indonesia di Denmark Open mendatang. Tak heran jika PBSI mematok target juara. Masalahnya, hasil undian menempatkan Minions dan kolega dalam situasi yang cukup tricky pada babak2 awal.',\n",
              " 'WS: Semifinal, minimal perempat final\\n\\nHanya Gregoria Mariska Tunjung yang jadi wakil Indonesia pada sektor WS. Tentu bukan situasi yang ideal. Di sisi lain, target yg dipatok PBSI terbilang tinggi, yakni semifinal atau setidaknya 8 besar.',\n",
              " 'Pembagian pelatih pelatnas pbsi untuk 3 turnamen di minggu ini:\\nMalang:\\nGeorge, Morico, David, Pras, Namrih, Amon, Rijal\\n\\nDenmark:\\nIrwansyah, Rionny, Herli, Herry IP, Aryono, Eng Hian, Nova\\n\\nSpain:\\nHarry, Asep, Thomas, Enroe, Flandy https://t.co/W3u4gLzWJb',\n",
              " 'Support Badminton Indonesia 🏸🇲🇨\\n•\\n•\\nCapture the moment\\nMansion Sport Indonesia International Challenge Malang 2022\\nat Gor Platinum Araya, Malang, Jawa Timur\\n•\\n•\\n Support by : @INABadminton -PBSI Jatim\\n\\nIn frame : @ribkasugiarto10 @syabdaperkasa @YuniKartika73 etc. https://t.co/F1TCGOoaJd',\n",
              " '@hendrigumay Semoga bisa jadi pertimbangan buat PBSI buat sering kombinasi senior-junior soalnya emang paling cepet ngangkat pemain muda ya di tandem sama seniornya',\n",
              " '@ertantomi @mass_umam @RudyRoedyanto Astaga ada aja orang kek gini didunia ini...memding elu buatin turnamen kek pbsi dan bwf mbak yg non pelatnas dan pelatnas, mbak!!!',\n",
              " 'Dimulai Hari ini, Jadwal Lengkap Indonesia di Penyisihan Grup Piala Suhandinata 2022 https://t.co/FAkQ6pdPVp baca juga berita dari media lainnya di Indonesia di https://t.co/GkwQxRUMd1 \\n\\n#pbsi #bulutangkis #beritabulutangkis #suhandinatacup #kejuaraanduniabulutangkisjunior2022',\n",
              " '@G_minton @syara_radityo PBSI blm rilis resmi tp sdh diketahui kok siapa aja nama2 nya.\\n\\nMS-WS yg beregu-individual komposisinya sama. Di individual, XD tambahannya Sasfa/Farica &amp; Marwan/Jessica. WD tambahannya Agnia/Arlya. MD tambahannya Fadel/Raska (Rayhan nggak main individual, Putra balik sm Patra)',\n",
              " 'Masyaallah kokoj pke lekbong🙈🙈\\nItu yg belakang bisa gk,gk usah pke senyum😍😍\\n\\n©pbsi https://t.co/bpVeoCeAeg',\n",
              " 'Saranin raket badminton dong gaes, mau rencana gabung pelatnas PBSI.',\n",
              " '[PHOTO] Pramudya Kusumawardana &amp; Rahmat Hidayat at the Final - Mansion Sport Malang Indonesia International Challenge 2022\\n\\n📸: PBSI https://t.co/vEinGvbQ1g',\n",
              " '[PHOTO] Pramudya Kusumawardana &amp; Rahmat Hidayat at the Final - Mansion Sport Malang Indonesia International Challenge 2022\\n\\n📸: PBSI https://t.co/f6BJmE3HJu',\n",
              " '[PHOTO] Pramudya Kusumawardana &amp; Rahmat Hidayat at the Final - Mansion Sport Malang Indonesia International Challenge 2022\\n\\n📸: PBSI https://t.co/RyfW8z15Jy',\n",
              " '@G_minton admin pbsi sekarang pinternya di luar nalar',\n",
              " 'Banyak junior pbsi yang peesonaa indah wajahmu mampu mengalihkan duniakuu~ 😂 https://t.co/y8HhDxg924',\n",
              " '4 tahun di pengprov PBSI NTT saat pengaturan pengurus baru gue gak dipanggil. Eh pagi ini gue ditelpon buat masuk ke pengurus kota, gak jauh2  emang dari badminton',\n",
              " 'Selamat satu tahun bendera pbsi dikibarkan virtual di aarhus https://t.co/X0YC7cK5Rr',\n",
              " 'akhirnyaa liat bujang2 pbsi ku tanding lagi',\n",
              " '@stefanyvonne Makanya kita jg ga bs menyalahkan PBSI, disatu sisi mereka melindungi diri dan atlet di pelatnas, disisi lain mereka menghambat atlet pro.',\n",
              " '@badminton__fess Abis ini followers melonjak ya, cakep sih u manis kek air sponsor pbsi',\n",
              " '@nfae_dah @INABadminton @PBSI Padahal sudah daftar tapi katanya jumlah poin blm cukup. Lah bagaimana bisa cukup ? Krn blm pernah keluar negeri.\\nBeda sama yg di pelatnas dibiayai negara kemanapun bisa dikirim keluar negeri. Jadi kayaknya gak adil gitu loh',\n",
              " '@geewon2112 Akun PBSI masih aktif ga sih kak, bikin story mulu🤣.',\n",
              " 'MORUT, Kompas Sulawesi - Kepengurusan Persatuan Bulutangkis Seluruh Indonesia (PBSI) Kabupaten Morowali Utara (Morut) Sulawesi Tengah, periode 2022-2026 resmi dikukuhkan. Kegiatan itu berlangsung di lapangan bulutangkis markas Koramil 03 Petasia Kodim 131 https://t.co/PTp8FZWbt4',\n",
              " 'Dejan Ferdinansyah/Gloria Emmanuelle Juara di 4 Turnamen Beruntun, Nova Widianto Bicara soal Peluang Dipanggil ke Pelatnas PBSI #LengkapCepatBeritanya #Olahraga #Sport #Bulutangkis #Netting #Badminton . https://t.co/cgiWZS0ZEQ',\n",
              " 'duh paBos, mimin pbsi tau aja kalo kita kangen orang satu ini\\nmakanya sampek dikasih 2 poto langsung\\U0001f979✨ https://t.co/yJiqDqjOkk',\n",
              " '@imbackbroo @ria_ssrenasha @ikram_rd @darkbl19 Udah deh ngga usah bahas mendingan scroll tiktok aja😁 sambil nunggu wjc dan Denmark open😁🇮🇩.....kita tunggu aja penjelasan dari PBSI biar jelas',\n",
              " 'Pbsi jatim gamau share putu yg di ig story kah\\U0001f972 https://t.co/plj2DG3EiN',\n",
              " 'Juara Umum Indonesia International Challenge 2022: Podium Keempat Dejan/Gloria dan Suksesnya 2 Eksperimen PBSI https://t.co/jYmoWtJD48',\n",
              " 'Selamat sekali lagi buat Dejan/Gloria, Ribka/Lanny dan Pramudya/Rahmat, yang berhasil jadi juara di #IICMalang2022! 👏\\n\\nSelamat juga buat Akbar/Gischa, Ghana/Indah, Alfian/Ade, dan Nita/Tryola yang berhasil menjadi semifinalis. Tetap semangat! 💪🏼\\n\\nFoto: Humas PP PBSI\\n\\n#tournament https://t.co/5Cbl2F4GAR',\n",
              " '@yasmin_amini @StenlyChris @ainurohman Ada contact wa nya gitu mba. Cari aja di ig PBSI',\n",
              " '•••••••••••••••••••\\n\\nDivisi Kominfo Himaprodi PBSI \\nLaman : Himaprodi PBSI \\nInstagram : himapbsifkipur\\nTwitter : @himapbsifkipur1\\nYouTube : LensaBASIS\\nBlog : https://t.co/YSPwnVR3So\\nEmail : Himapbsifkipur17@gmail.com',\n",
              " 'untuk kepentingan pribadi atau golongan.\\n\\nsumber: https://t.co/qA7BDQvtAq\\n\\n#infofkipur\\n#terasunri\\n\\n••••••••••••••••••••••••••••••••••••••••\\nBupma : Caesare Fathurrahman\\nWabupma : M. Zafran Syaira\\n•••••••••••••••••••••',\n",
              " 'Belanda dengan nama Volksraad atau Dewan Rakyat. Fungsi volksraad pada saat itu untuk menampung aspirasi masyarakat yang berada di bawah penjajahan belanda.\\n\\nSebagai rakyat indonesia kita berharap agar anggota DPR bisa menjaga kepentingan demokrasi yang ada di indonesia, bukan',\n",
              " 'lembaga perwakilan yang berfungsi mewadahi aspirasi rakyat serta menjadi momentum untuk membangun indonesia yang lebih maju dan masyarakat yang lebih sejahtera.\\n\\nAwalnya, parlemen Indonesia atau yang kita sebut dengan Dewan Perwakilan Rakyat (DPR) dibentuk pada zaman penjajahan',\n",
              " '[PBSI UR_INFO]\\nAssalamualaikum warohmatullahi wabarokatuh \\nSalam Pendidikan. Jayalah!\\nSalam Bahasa dan Budaya 💪\\n\\n▪️HARI PARLEMEN INDONESIA▪️\\n\\nPekanbaru (16/10/2022) - Hari Parlemen Indonesia diperingati setiap tahunnya pada tanggal 16 Oktober. Peringatan ini menandai pentingnya https://t.co/HLup7duTBL',\n",
              " 'Indonesia Juara Umum International Challenge 2022 https://t.co/P5sCjwurTa\\n#Bulutangkis #IndonesiaJuara #PBSI #InternationalChallenge2022',\n",
              " 'Anjas masuk pbsi hahahha https://t.co/Y2RtRuzElb',\n",
              " '@ria_ssrenasha @ikram_rd @petterzxz @darkbl19 Aturan PBSI masih lebih longgar dibanding negara lain seperti Jepang yg jauh lebih ketat',\n",
              " '@rzkamd_ Kebetulan yg di pbsi si\\U0001f972',\n",
              " '@stefanyvonne Yang belum punya rank bisa kak,tapi ya gitu PBSI mengantisipasi perjudian, PBSI menanggung denda besar waktu itu',\n",
              " 'Anthony Sinisuka Ginting Puji Perkembangan Chico Wardoyo https://t.co/4Ug8W8A8Iy baca juga berita dari media lainnya di Indonesia di https://t.co/GkwQxRUMd1 \\n\\n#pbsi #pelatnascipayung #chicoauradwiwardoyo #anthonysinisukaginting #tunggalputraindonesia',\n",
              " '@stefanyvonne Ya g sepenuhny slh pbsi jg sih,mgkn ini solusi yg terbaik dr pbsi,smg bs ada sdkt kelonggaran lg dilevel IC ke bawah',\n",
              " 'Sudah kuduga berawal dari sini. Tapi baru tahu PBSI ikut kena getahnya. 🤦🏻\\u200d♀️ https://t.co/Cy80eZf2Dy',\n",
              " '@ozan_179 @zahraquinsha @ainurohman Ci Vita kayaknya dulu pernah jadi pelatih di PBSI kan ya? Kenapa sekarang udah nggak?',\n",
              " 'BTW BTW BTW\\n\\nakhirnya badminton ina ikut turnamen lagi😭😭 lengkap udah hari-hari gw diisi ateez sama bujank\" pbsi🤧🤧',\n",
              " 'Anjayyy jarang2 YT PBSI trending 😭😭 https://t.co/FRFz9mQ0am',\n",
              " '@IklasulB @elonmuskcompany @idextratime Njirr gua ngakak 🤣 bner jga ide lu sob',\n",
              " \"@mass_umam @ertantomi @RudyRoedyanto @hkvittinghus It's ok, kalau semua yg di list web PBSI ikut, bisa menambah serunya pertandingan, siapa tahu junior ada yg bersinar kan, lumayan juga buat mereka dapat rangking utk kedepannya.\",\n",
              " 'Another dream come true for PBsi.\\n\\nOctopop x Bright \\nBright Vachirawit \\n#OCTOPOP2022\\n#bbrightvc\\n@bbrightvc https://t.co/Pv56180Jy3',\n",
              " '@rudmilano berarti yang belum punya rangking gak bisa daftar dong.. ini beneran peraturan PBSI?',\n",
              " '@mass_umam @ertantomi @RudyRoedyanto @hkvittinghus Gao fangjie kan nr, kalau semua nya yg di list website pbsi ikut, gfj kemungkinan cuma reserve, karena kan yg duluan daftar which is atlet Indonesia bakalan di atas gfj.',\n",
              " '@stefanyvonne Tp ya gmn lg,ini antisipasi dr pbsi biar g kejadian lg,sbnrny byk kan yg judi ada 7 org dr indonesia',\n",
              " '@udahanplz @INABadminton hruse km bilang biar dibayari bpkku ketua pbsi malang',\n",
              " '@petterzxz Pemain dari club kalau ikut turnamen open juga jatuhnya pemain profesional (tidak Pelatnas) kok. Di database PBSI juga masih terdaftar sebagai pemain klub.\\nTommy Sugiarto itu walaupun tanding sendiri tanpa pelatih, di database PBSI juga atas nama klub atau Pengkot/Pengcabnya juga',\n",
              " 'Ada juga yang berharap Dejan/Gloria (sepaket) ditarik ke pelatnas. Kayanya susah juga kalo mau narik Gloria balik. She is a senior player, jarang sih PBSI mau narik balik senior, apalagi yg (sorry) prestasinya gak tinggi2 banget.\\n\\nJadi menurut gw, biarkan DeGlo bersama Djarum aja',\n",
              " '@ertantomi @RudyRoedyanto @mass_umam @hkvittinghus Memberikan kesempatan bagi negara lain utk ikut. Padahal mah atlet kita sering gagal ikut karena gak masuk kualifikasi, disebabkan rangking yg rendah/nr. Tapi PBSI memang baik.',\n",
              " 'Dari tadi gw liat2 banyak juga netizen yang komen kalo PBSI menyesal melepas Gloria, terus sekarang dia bisa juara 4x dengan Dejan.\\n\\nHmm, i think PBSI belom sampe di tahap penyesalan itu sih. Level Gloria emang udah diatas IS/IC/S100. Udah sepatutnya menang di turnamen itu.',\n",
              " '@G_minton Gue sih setuju aturan dari PBSI dan ngga kaget sih.... negara lain juga gitu kok.. udah lah ngapain sibuk ngurusin tuh orang.... makanya jangan jadi pemain profesional masuk club dong biar bisa ikut turnamen wkwkwk 😁',\n",
              " 'Lah, gimana caranya naikin rank kalo ikut FS aja dibatesin njir. Peraturan kaya gini buat apa deh? Buat keuntungan siapa?? @.PBSI https://t.co/sRWIbXfc3P',\n",
              " 'Muh Rayhan Nur Fadillah mungkin adalah atlet kelahiran KalSel pertama yg masuk pelatnas PBSI https://t.co/U2fRNrUNiZ',\n",
              " 'i’m not hating XD yang sekarang, malah seneng PBSI berani bongkar pasang, cuma tetep aja butuh at least 1 pasangan yang bisa dijadiin pegangan. semenjak jadi xd 1 indo ripith under, tapi sekwrang lumayan naik semoga konsisten',\n",
              " 'Terkhusus congrats buat Ribka/Lanny dan Pram/Rahmat! Pasangan debutan baru yang membawa juniornya untuk mendapatkan pengalaman baru, dan tentunya gelar pertama buat juniornya.\\n\\nI wish PBSI can consider Ribka/Lanny as permanent pair 🙏 Gilaa potensi mereka ada bangettt.',\n",
              " '@stefanyvonne Ini aku setuju sih takutny kejadian kyk kmrn yg match fixing,yg bayar denda ratusan juta mlh PBSI,klo gni kan hrs emg bnr2 serius berprestasi yg bs ikut,bkn yg cm mau \"main\"',\n",
              " '@petterzxz @ikram_rd @darkbl19 Takutny kejadian kyk kmrn yg match fixing itu,dibolehin main pdhl g tau rank brp mrk wkt itu eh mlh tujuanny nyari duit haram yg bayarin denda PBSI,ya bgs begini mnrtq biar yg beneran serius yg ikut turnamen bkn nyari uang haram ✌️',\n",
              " '@DhaniNusantara1 @aniesbaswedan @KPK_RI Sampai lengser,urusan se emil saja gk beres2 smp 5 bln.Tiru tuh PBSI,brp turnamen dlm 1 thn yg diselenggarakan PBSI,gk ada masalah.']"
            ]
          },
          "metadata": {},
          "execution_count": 35
        }
      ]
    },
    {
      "cell_type": "markdown",
      "source": [
        "Langkah ke 8 \n",
        "Install Sastrawi "
      ],
      "metadata": {
        "id": "TQ04ep4ZWrwr"
      }
    },
    {
      "cell_type": "code",
      "source": [
        "!pip install Sastrawi"
      ],
      "metadata": {
        "colab": {
          "base_uri": "https://localhost:8080/"
        },
        "id": "vmyA9Jka61vM",
        "outputId": "d7e21282-e8b7-4ea9-ee66-efa02cef5caa"
      },
      "execution_count": null,
      "outputs": [
        {
          "output_type": "stream",
          "name": "stdout",
          "text": [
            "Looking in indexes: https://pypi.org/simple, https://us-python.pkg.dev/colab-wheels/public/simple/\n",
            "Requirement already satisfied: Sastrawi in /usr/local/lib/python3.7/dist-packages (1.0.1)\n"
          ]
        }
      ]
    },
    {
      "cell_type": "markdown",
      "source": [
        "Langkah ke 9 \n",
        "Membuat objek untuk folding,stemming,filtering "
      ],
      "metadata": {
        "id": "6OkWSid4Wjme"
      }
    },
    {
      "cell_type": "code",
      "source": [
        "import re\n",
        "import string\n",
        "from Sastrawi.Stemmer.StemmerFactory import StemmerFactory# create stemmer\n",
        "factory = StemmerFactory()\n",
        "stemmer = factory.create_stemmer()# stemming process\n",
        "# import StopWordRemoverFactory class\n",
        "from Sastrawi.StopWordRemover.StopWordRemoverFactory import StopWordRemoverFactory\n",
        "factory = StopWordRemoverFactory()\n",
        "stopword = factory.create_stop_word_remover()\n",
        "documents_clean=[]\n",
        "\n",
        "for d in datatw:\n",
        "\n",
        "    # Remove Unicode\n",
        "    document_test = re.sub(r'[^\\x00-\\x7F]+', ' ', d)\n",
        "    # Remove URL\n",
        "    document_test = re.sub(r'http\\S+', '', document_test)\n",
        "    # Remove Mentions\n",
        "    document_test = re.sub(r'@\\w+', '', document_test)\n",
        "    # Lowercase the document\n",
        "    document_test = document_test.lower()\n",
        "    # Remove punctuations\n",
        "    document_test = re.sub(r'[%s]' % re.escape(string.punctuation), ' ', document_test)\n",
        "    # Lowercase the numbers\n",
        "    document_test = re.sub(r'[0-9]', '', document_test)\n",
        "    # Remove the doubled space\n",
        "    outputstop = re.sub(r'\\s{2,}', ' ', document_test)\n",
        "    documents_clean.append(outputstop)\n",
        "\n",
        "    outputstem= stemmer.stem(d)\n",
        "    d= stopword.remove(outputstem)"
      ],
      "metadata": {
        "id": "xwEQQ3IT65FN"
      },
      "execution_count": null,
      "outputs": []
    },
    {
      "cell_type": "markdown",
      "source": [
        "Langkah 10\n",
        "Menampilkan data yang sudah clean"
      ],
      "metadata": {
        "id": "cXu5W_lLXNlD"
      }
    },
    {
      "cell_type": "code",
      "source": [
        "documents_clean[1:10]"
      ],
      "metadata": {
        "colab": {
          "base_uri": "https://localhost:8080/"
        },
        "id": "Da-vUqzkhpOJ",
        "outputId": "deddb297-3cd1-4249-a56e-4a141d607227"
      },
      "execution_count": null,
      "outputs": [
        {
          "output_type": "execute_result",
          "data": {
            "text/plain": [
              "['humas pbsi yang sebenarnya ',\n",
              " 'herry ip bicara target ganda putra di denmark open dan france open baca juga berita dari media lainnya di indonesia di denmarkopen herryip kevinsanjaya marcusfernaldigideon hendrasetiawan rionnymainaky pbsi',\n",
              " 'tim asesor lamdik visitasi prodi pbsi fkip unismuh secara luring\\n',\n",
              " ' pbsi gua liat lu kaga ngepost foto rayen dari kemaren butuh woi',\n",
              " 'indonesia masters super tutup turnamen bergengsi tahun ini baca juga berita dari media lainnya di indonesia di indonesiamasters indonesiamasterssuper bwf indonesiamasters pbsi',\n",
              " 'tim bulutangkis indonesia akan memulai kembali perjuangannya di turnamen bwf denmark open ada wakil yang diturunkan pbsi di ajang level super itu ',\n",
              " ' benar tidak punya rasa tanggung jawab empati dan korup uang doang dipikirin nyawa manusia itu kau anggap apa masa iya yg bertanggung jawab pbsi or pbvsi yo gak nyambung ',\n",
              " 'tim bulutangkis indonesia akan memulai kembali perjuangannya di turnamen bwf denmark open ada wakil yang diturunkan pbsi di ajang level super itu ',\n",
              " ' knp sih pbsi gk krjsama tvri sport hd buat pnayangan suhandinata cup dn wjc hmm']"
            ]
          },
          "metadata": {},
          "execution_count": 38
        }
      ]
    },
    {
      "cell_type": "markdown",
      "source": [
        "Langkah 11\n"
      ],
      "metadata": {
        "id": "GXOp9atTXSYk"
      }
    },
    {
      "cell_type": "code",
      "source": [
        "from sklearn.feature_extraction.text import TfidfVectorizer\n",
        "import pandas as pd\n",
        "tfidfvectorizer = TfidfVectorizer(analyzer='word')\n",
        "tfidf_wm = tfidfvectorizer.fit_transform(documents_clean)\n",
        "tfidf_tokens = tfidfvectorizer.get_feature_names_out()"
      ],
      "metadata": {
        "id": "qEZAqtmzh2tC"
      },
      "execution_count": null,
      "outputs": []
    },
    {
      "cell_type": "markdown",
      "source": [
        "Langkah 12"
      ],
      "metadata": {
        "id": "qB6H59fdXhmV"
      }
    },
    {
      "cell_type": "code",
      "source": [
        "from sklearn.feature_extraction.text import CountVectorizer \n",
        "import matplotlib.pyplot as plt\n",
        "import numpy as np # linear algebra\n",
        "import pandas as pd # data processing, CSV file I/O (e.g. pd.read_csv)"
      ],
      "metadata": {
        "id": "FLMzCiLIikfn"
      },
      "execution_count": null,
      "outputs": []
    },
    {
      "cell_type": "markdown",
      "source": [
        "Langkah 13"
      ],
      "metadata": {
        "id": "yBG1IENCXji7"
      }
    },
    {
      "cell_type": "code",
      "source": [
        "cv = CountVectorizer()\n",
        "words = cv.fit_transform(documents_clean)\n",
        "sum_words = words.sum(axis=0)\n",
        "\n",
        "words_freq = [(word, sum_words[0, idx]) for word, idx in cv.vocabulary_.items()]\n",
        "words_freq = sorted(words_freq, key = lambda x: x[1], reverse = True)\n",
        "frequency = pd.DataFrame(words_freq, columns=['word', 'freq'])"
      ],
      "metadata": {
        "id": "Lhfx6hcCimdR"
      },
      "execution_count": null,
      "outputs": []
    },
    {
      "cell_type": "markdown",
      "source": [
        "Langkah 14\n",
        "Menampilkan 20 kata yang sering muncul "
      ],
      "metadata": {
        "id": "YILp2raUXl33"
      }
    },
    {
      "cell_type": "code",
      "source": [
        "color = plt.cm.twilight(np.linspace(0, 1, 20))\n",
        "frequency.head(20).plot(x='word', y='freq', kind='bar', figsize=(15, 7), color = color)\n",
        "plt.title(\"Most Frequently Occuring Words - Top 20\")"
      ],
      "metadata": {
        "colab": {
          "base_uri": "https://localhost:8080/",
          "height": 514
        },
        "id": "HU40RmNIipqZ",
        "outputId": "34086c62-8a8b-4389-8e3f-892a87d2d60e"
      },
      "execution_count": null,
      "outputs": [
        {
          "output_type": "execute_result",
          "data": {
            "text/plain": [
              "Text(0.5, 1.0, 'Most Frequently Occuring Words - Top 20')"
            ]
          },
          "metadata": {},
          "execution_count": 42
        },
        {
          "output_type": "display_data",
          "data": {
            "text/plain": [
              "<Figure size 1080x504 with 1 Axes>"
            ],
            "image/png": "[encoded data removed]"
          },
          "metadata": {
            "needs_background": "light"
          }
        }
      ]
    },
    {
      "cell_type": "markdown",
      "source": [
        "Langkah 15\n",
        "Klastering"
      ],
      "metadata": {
        "id": "K4R8sQPQXuWi"
      }
    },
    {
      "cell_type": "code",
      "source": [
        "from sklearn.cluster import KMeans"
      ],
      "metadata": {
        "id": "IsfV-CITi2eX"
      },
      "execution_count": null,
      "outputs": []
    },
    {
      "cell_type": "markdown",
      "source": [
        "Langkah 16"
      ],
      "metadata": {
        "id": "_UFnbJ5QX169"
      }
    },
    {
      "cell_type": "code",
      "source": [
        "from sklearn.cluster import KMeans\n",
        "true_k = 3\n",
        "model = KMeans(n_clusters=true_k, init='k-means++', max_iter=100, n_init=1)\n",
        "model.fit(words)"
      ],
      "metadata": {
        "colab": {
          "base_uri": "https://localhost:8080/"
        },
        "id": "xhcehs9sjNLw",
        "outputId": "7de89183-e989-4438-b712-668194f66cc0"
      },
      "execution_count": null,
      "outputs": [
        {
          "output_type": "execute_result",
          "data": {
            "text/plain": [
              "KMeans(max_iter=100, n_clusters=3, n_init=1)"
            ]
          },
          "metadata": {},
          "execution_count": 44
        }
      ]
    },
    {
      "cell_type": "markdown",
      "source": [
        "Langkah 17\n",
        "Menampilkan 10 data dari setiap cluster "
      ],
      "metadata": {
        "id": "4hkQqmxsX4aG"
      }
    },
    {
      "cell_type": "code",
      "source": [
        "order_centroids = model.cluster_centers_.argsort()[:, ::-1]\n",
        "terms = cv.get_feature_names_out()\n",
        "\n",
        "for i in range(true_k):\n",
        "  print(\"Cluster %d:\" % i),\n",
        "  \n",
        "  for ind in order_centroids[i, :10]:\n",
        "      print(' %s' % terms[ind]),\n",
        "  \n",
        "  print()"
      ],
      "metadata": {
        "colab": {
          "base_uri": "https://localhost:8080/"
        },
        "id": "CNuZczygjR9t",
        "outputId": "d6d8040c-2396-4cf1-abb4-d04720b149be"
      },
      "execution_count": null,
      "outputs": [
        {
          "output_type": "stream",
          "name": "stdout",
          "text": [
            "Cluster 0:\n",
            " pbsi\n",
            " yg\n",
            " di\n",
            " dan\n",
            " yang\n",
            " ikut\n",
            " ini\n",
            " aja\n",
            " ada\n",
            " ya\n",
            "\n",
            "Cluster 1:\n",
            " indonesia\n",
            " malang\n",
            " sport\n",
            " mansion\n",
            " at\n",
            " challenge\n",
            " the\n",
            " pbsi\n",
            " international\n",
            " pramudya\n",
            "\n",
            "Cluster 2:\n",
            " di\n",
            " indonesia\n",
            " pbsi\n",
            " yang\n",
            " juga\n",
            " open\n",
            " dari\n",
            " itu\n",
            " dan\n",
            " turnamen\n",
            "\n"
          ]
        }
      ]
    },
    {
      "cell_type": "markdown",
      "source": [
        "Langkah 18\n",
        "Memprediksi"
      ],
      "metadata": {
        "id": "rgNeebRBYFbP"
      }
    },
    {
      "cell_type": "code",
      "source": [
        "print(\"Prediction\")\n",
        "Y = cv.transform([\"Thomas Cup\"])\n",
        "prediction = model.predict(Y)\n",
        "print(\"Cluster number :\", prediction)\n",
        "Y = cv.transform([\"Lin Dan\"])\n",
        "prediction = model.predict(Y)\n",
        "print(\"Cluster number :\", prediction)"
      ],
      "metadata": {
        "colab": {
          "base_uri": "https://localhost:8080/"
        },
        "id": "M3EJI08yjVFC",
        "outputId": "8abd0893-9e7f-44e5-bfcd-be3c1714216e"
      },
      "execution_count": null,
      "outputs": [
        {
          "output_type": "stream",
          "name": "stdout",
          "text": [
            "Prediction\n",
            "Cluster number : [0]\n",
            "Cluster number : [0]\n"
          ]
        }
      ]
    },
    {
      "cell_type": "markdown",
      "source": [
        "Langkah 19\n",
        "Klastering"
      ],
      "metadata": {
        "id": "2efPEtoZYX1x"
      }
    },
    {
      "cell_type": "code",
      "source": [
        "import scipy.cluster.hierarchy as sch"
      ],
      "metadata": {
        "id": "31aaYlsrjZJz"
      },
      "execution_count": null,
      "outputs": []
    },
    {
      "cell_type": "markdown",
      "source": [
        "Langkah 20\n",
        "Menggabungkan cluster dan Menampilkan Dendogram"
      ],
      "metadata": {
        "id": "Xzt2iwjMYc8k"
      }
    },
    {
      "cell_type": "code",
      "source": [
        "X = cv.fit_transform(documents_clean).todense()\n",
        "plt.figure(figsize=(20, 10))\n",
        "dendrogram = sch.dendrogram(sch.linkage(X, method = 'ward',metric='euclidean'),orientation=\"top\")\n",
        "plt.title('Dendrogram')\n",
        "plt.xlabel('Jarak Ward')\n",
        "plt.ylabel('Nomor Dokumen')\n",
        "plt.show()"
      ],
      "metadata": {
        "colab": {
          "base_uri": "https://localhost:8080/",
          "height": 618
        },
        "id": "qqJMasuJjrjo",
        "outputId": "b25b4aba-1b80-40a7-84a5-00632965a8cb"
      },
      "execution_count": null,
      "outputs": [
        {
          "output_type": "display_data",
          "data": {
            "text/plain": [
              "<Figure size 1440x720 with 1 Axes>"
            ],
            "image/png": "[encoded data removed]"
          },
          "metadata": {
            "needs_background": "light"
          }
        }
      ]
    },
    {
      "cell_type": "markdown",
      "source": [
        "Langkah 21\n",
        "Memprediksi cluster"
      ],
      "metadata": {
        "id": "IZYkwS21Yltj"
      }
    },
    {
      "cell_type": "code",
      "source": [
        "from sklearn.cluster import AgglomerativeClustering\n",
        "\n",
        "cluster = AgglomerativeClustering(n_clusters=6, affinity='euclidean', linkage='ward')  \n",
        "cluster.fit_predict(X) \n",
        "print(cluster.labels_)"
      ],
      "metadata": {
        "colab": {
          "base_uri": "https://localhost:8080/"
        },
        "id": "PZnkVq8Ajt4d",
        "outputId": "668482f8-3f44-4363-c0c1-948aeb02b8b0"
      },
      "execution_count": null,
      "outputs": [
        {
          "output_type": "stream",
          "name": "stdout",
          "text": [
            "[2 2 4 2 2 4 4 2 4 2 2 2 2 2 2 4 2 2 2 0 0 4 0 2 2 2 2 4 0 2 2 2 2 2 2 2 2\n",
            " 2 2 2 2 2 2 4 2 2 2 2 2 0 2 2 2 3 3 2 2 2 2 2 2 4 2 2 2 2 2 2 2 2 2 2 2 2\n",
            " 1 1 2 1 2 2 2 0 0 5 5 2]\n"
          ]
        },
        {
          "output_type": "stream",
          "name": "stderr",
          "text": [
            "/usr/local/lib/python3.7/dist-packages/sklearn/utils/validation.py:598: FutureWarning: np.matrix usage is deprecated in 1.0 and will raise a TypeError in 1.2. Please convert to a numpy array with np.asarray. For more information see: https://numpy.org/doc/stable/reference/generated/numpy.matrix.html\n",
            "  FutureWarning,\n"
          ]
        }
      ]
    },
    {
      "cell_type": "markdown",
      "source": [
        "Langkah 22\n",
        "Menggabungkan Cluster dan menampilkan Dendogram"
      ],
      "metadata": {
        "id": "xn8mWxXgYriR"
      }
    },
    {
      "cell_type": "code",
      "source": [
        "import scipy.cluster.hierarchy as sch\n",
        "X = cv.fit_transform(documents_clean).todense()\n",
        "plt.figure(figsize=(10, 20))\n",
        "dendrogram = sch.dendrogram(sch.linkage(X, method = 'average',metric='euclidean'),orientation=\"right\")\n",
        "plt.title('Dendrogram')\n",
        "plt.xlabel('Jarak Rerata')\n",
        "plt.ylabel('Nomor Dokumen')\n",
        "plt.show()"
      ],
      "metadata": {
        "colab": {
          "base_uri": "https://localhost:8080/",
          "height": 1000
        },
        "id": "qdRkVvTZjzD1",
        "outputId": "7c90326a-2476-4f97-fa8b-226d28297d75"
      },
      "execution_count": null,
      "outputs": [
        {
          "output_type": "display_data",
          "data": {
            "text/plain": [
              "<Figure size 720x1440 with 1 Axes>"
            ],
            "image/png": "[encoded data removed]"
          },
          "metadata": {
            "needs_background": "light"
          }
        }
      ]
    },
    {
      "cell_type": "markdown",
      "source": [
        "Langkah 23\n",
        "Menggabungkan Cluster dan menampilkan Dendogram"
      ],
      "metadata": {
        "id": "EB2E4ghuY0EP"
      }
    },
    {
      "cell_type": "code",
      "source": [
        "from scipy.cluster.hierarchy import dendrogram, linkage\n",
        "from matplotlib import pyplot as plt\n",
        "\n",
        "linked = linkage(X, 'average')\n",
        "\n",
        "labelList = range(0, len(cluster.labels_))\n",
        "\n",
        "plt.figure(figsize=(20, 10))\n",
        "dendrogram(linked,\n",
        "            orientation='top',\n",
        "            labels=labelList,\n",
        "            distance_sort='descending',\n",
        "            show_leaf_counts=True)\n",
        "plt.show()"
      ],
      "metadata": {
        "colab": {
          "base_uri": "https://localhost:8080/",
          "height": 588
        },
        "id": "mG0BhQE9j11h",
        "outputId": "697a638d-50f5-4a7e-cee7-cbaf20421016"
      },
      "execution_count": null,
      "outputs": [
        {
          "output_type": "display_data",
          "data": {
            "text/plain": [
              "<Figure size 1440x720 with 1 Axes>"
            ],
            "image/png": "[encoded data removed]"
          },
          "metadata": {
            "needs_background": "light"
          }
        }
      ]
    },
    {
      "cell_type": "markdown",
      "source": [
        "Langkah 24 \n",
        "Proses HC dan memprediksi Cluster"
      ],
      "metadata": {
        "id": "SZdQVg75Y7TZ"
      }
    },
    {
      "cell_type": "code",
      "source": [
        "from sklearn.cluster import AgglomerativeClustering\n",
        "\n",
        "cluster = AgglomerativeClustering(n_clusters=6, affinity='euclidean', linkage='average')  \n",
        "cluster.fit_predict(X) \n",
        "print(cluster.labels_)"
      ],
      "metadata": {
        "colab": {
          "base_uri": "https://localhost:8080/"
        },
        "id": "ORRyq7hpj801",
        "outputId": "370d8acf-84fe-4cbe-be0b-b04977159701"
      },
      "execution_count": null,
      "outputs": [
        {
          "output_type": "stream",
          "name": "stdout",
          "text": [
            "[0 0 0 0 0 0 0 0 0 0 0 0 0 0 0 0 0 0 0 0 5 0 0 0 0 0 0 0 2 0 0 0 0 0 0 0 0\n",
            " 0 0 0 0 0 0 0 0 0 0 0 0 0 0 0 0 1 1 0 0 0 0 0 0 0 0 0 0 0 0 0 0 0 0 0 0 0\n",
            " 3 4 0 0 0 0 0 0 0 0 0 0]\n"
          ]
        },
        {
          "output_type": "stream",
          "name": "stderr",
          "text": [
            "/usr/local/lib/python3.7/dist-packages/sklearn/utils/validation.py:598: FutureWarning: np.matrix usage is deprecated in 1.0 and will raise a TypeError in 1.2. Please convert to a numpy array with np.asarray. For more information see: https://numpy.org/doc/stable/reference/generated/numpy.matrix.html\n",
            "  FutureWarning,\n"
          ]
        }
      ]
    },
    {
      "cell_type": "markdown",
      "source": [
        "Langkah 25"
      ],
      "metadata": {
        "id": "bctP6uyOZA_n"
      }
    },
    {
      "cell_type": "code",
      "source": [
        "from scipy.cluster.hierarchy import dendrogram, linkage\n",
        "from matplotlib import pyplot as plt\n",
        "\n",
        "linked = linkage(X, 'single')\n",
        "\n",
        "labelList = range(0, len(cluster.labels_))\n",
        "\n",
        "plt.figure(figsize=(20, 10))\n",
        "dendrogram(linked,\n",
        "            orientation='top',\n",
        "            labels=labelList,\n",
        "            distance_sort='descending',\n",
        "            show_leaf_counts=True)\n",
        "plt.show()"
      ],
      "metadata": {
        "colab": {
          "base_uri": "https://localhost:8080/",
          "height": 588
        },
        "id": "ZHEs8ShJj_MI",
        "outputId": "8c541fe4-fb6e-4a41-ba34-06c970877220"
      },
      "execution_count": null,
      "outputs": [
        {
          "output_type": "display_data",
          "data": {
            "text/plain": [
              "<Figure size 1440x720 with 1 Axes>"
            ],
            "image/png": "[encoded data removed]"
          },
          "metadata": {
            "needs_background": "light"
          }
        }
      ]
    },
    {
      "cell_type": "markdown",
      "source": [
        "Langkah 26 \n",
        "Memprediksi Clusternya"
      ],
      "metadata": {
        "id": "TyUI_WAbZGmM"
      }
    },
    {
      "cell_type": "code",
      "source": [
        "from sklearn.cluster import AgglomerativeClustering\n",
        "\n",
        "cluster = AgglomerativeClustering(n_clusters=6, affinity='euclidean', linkage='single')  \n",
        "cluster.fit_predict(X) \n",
        "print(cluster.labels_)"
      ],
      "metadata": {
        "colab": {
          "base_uri": "https://localhost:8080/"
        },
        "id": "4Vx5wtWHkIvf",
        "outputId": "51364560-87fd-4faa-c9f4-17b620b0bde0"
      },
      "execution_count": null,
      "outputs": [
        {
          "output_type": "stream",
          "name": "stdout",
          "text": [
            "[0 0 0 0 0 0 0 0 0 0 0 0 0 0 0 0 0 0 0 0 5 0 0 0 0 0 0 0 3 0 0 0 0 0 0 0 0\n",
            " 0 0 0 0 0 0 0 0 0 0 0 0 0 0 0 0 0 4 0 0 0 0 0 0 0 0 0 0 0 0 0 0 0 0 0 0 0\n",
            " 1 2 0 0 0 0 0 0 0 0 0 0]\n"
          ]
        },
        {
          "output_type": "stream",
          "name": "stderr",
          "text": [
            "/usr/local/lib/python3.7/dist-packages/sklearn/utils/validation.py:598: FutureWarning: np.matrix usage is deprecated in 1.0 and will raise a TypeError in 1.2. Please convert to a numpy array with np.asarray. For more information see: https://numpy.org/doc/stable/reference/generated/numpy.matrix.html\n",
            "  FutureWarning,\n"
          ]
        }
      ]
    }
  ]
}